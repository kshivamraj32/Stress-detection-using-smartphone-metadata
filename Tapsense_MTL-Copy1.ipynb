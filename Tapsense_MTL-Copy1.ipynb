{
 "cells": [
  {
   "cell_type": "code",
   "execution_count": null,
   "metadata": {},
   "outputs": [],
   "source": [
    "import numpy as np\n",
    "import os \n",
    "import keras\n",
    "import pandas as pd\n",
    "from sklearn.metrics import confusion_matrix\n",
    "from sklearn.model_selection import train_test_split\n",
    "#from livelossplot.keras import PlotLossesCallback\n",
    "from os import path\n",
    "from sklearn.preprocessing import StandardScaler\n",
    "sc = StandardScaler()\n",
    "from keras.models import Sequential, Model\n",
    "from keras.layers import Input\n",
    "from keras import initializers\n",
    "from keras.layers.core import Dense, Dropout, Activation\n",
    "from keras.optimizers import SGD, Adam, RMSprop\n",
    "from keras.utils import np_utils\n",
    "from sklearn import preprocessing\n",
    "import warnings\n",
    "warnings.filterwarnings('ignore')"
   ]
  },
  {
   "cell_type": "code",
   "execution_count": null,
   "metadata": {},
   "outputs": [],
   "source": [
    "X_tot=np.empty(shape=(1,9))\n",
    "Y_tot=np.empty(shape=(1,4),dtype=np.int8)\n",
    "for i in range(1,55):\n",
    "    s = 'user_features/user'\n",
    "    s+=str(i)+'_cb.txt'\n",
    "    if(path.exists(s)):\n",
    "        #print(s)\n",
    "        dataset =  np.loadtxt(s,delimiter = \" \")\n",
    "        if dataset.ndim == 1:\n",
    "            dataset.shape = (1,10)\n",
    "        Y = dataset[:,9]\n",
    "        trn = dataset[:,0:9]\n",
    "        #X_res, y_res = sm.fit_resample(trn, Y)\n",
    "        labels = []\n",
    "        for l in Y:\n",
    "            if l == 0:\n",
    "                labels.append([1,0,0,0])\n",
    "            elif l == 1 :\n",
    "                labels.append([0,1,0,0])\n",
    "            elif l == 2 :\n",
    "                labels.append([0,0,1,0])\n",
    "            else :\n",
    "                labels.append([0,0,0,1])\n",
    "        trn=np.array(trn)\n",
    "        labels = np.array(labels)\n",
    "        if i==5:\n",
    "            print(labels.shape)\n",
    "        X_tot=np.concatenate((X_tot,trn),axis=0)\n",
    "        Y_tot=np.concatenate((Y_tot,labels),axis=0)\n",
    "X_tot = sc.fit_transform(X_tot)       "
   ]
  },
  {
   "cell_type": "code",
   "execution_count": null,
   "metadata": {},
   "outputs": [],
   "source": [
    "np.sum(Y_tot,axis=0)\n",
    "#Y_tot.shape"
   ]
  },
  {
   "cell_type": "code",
   "execution_count": null,
   "metadata": {},
   "outputs": [],
   "source": [
    "X_train, X_test, y_train, y_test = train_test_split(X_tot, Y_tot, test_size = 0.2)"
   ]
  },
  {
   "cell_type": "code",
   "execution_count": null,
   "metadata": {},
   "outputs": [],
   "source": [
    "feature_extractor = Sequential()\n",
    "feature_extractor.add(Dense(16, activation='relu',input_dim=9))\n",
    "feature_extractor.add(Dropout(0.2))\n",
    "feature_extractor.add(Dense(32, activation='relu'))\n",
    "feature_extractor.add(Dropout(0.15))\n",
    "nd=32\n",
    "feature_extractor.add(Dense(nd, activation='relu'))\n",
    "feature_extractor.add(Dense(4, activation='softmax'))\n",
    "adm=keras.optimizers.Adam(lr=0.01, beta_1=0.9, beta_2=0.999, epsilon=None, decay=0.0, amsgrad=False)\n",
    "feature_extractor.compile(loss='categorical_crossentropy',optimizer=adm,metrics=['accuracy'])\n",
    "feature_extractor.summary()"
   ]
  },
  {
   "cell_type": "code",
   "execution_count": null,
   "metadata": {},
   "outputs": [],
   "source": [
    "feature_extractor.fit(X_train,y_train,epochs=50,batch_size=8,validation_data=(X_train,y_train))"
   ]
  },
  {
   "cell_type": "code",
   "execution_count": null,
   "metadata": {},
   "outputs": [],
   "source": [
    "mod1=feature_extractor\n",
    "mod1.pop()\n",
    "\n",
    "mod1.summary()"
   ]
  },
  {
   "cell_type": "code",
   "execution_count": null,
   "metadata": {},
   "outputs": [],
   "source": [
    "y= feature_extractor.predict(X_test)\n",
    "y.shape"
   ]
  },
  {
   "cell_type": "code",
   "execution_count": null,
   "metadata": {},
   "outputs": [],
   "source": [
    "# feature_extractor.add(Dropout(0.15))\n",
    "row = Input(shape = (9,))\n",
    "features = feature_extractor(row)\n",
    "User_classifiers = []\n",
    "User_emotions = []\n",
    "Models = []\n",
    "Labels = []\n",
    "Train = []\n",
    "Labels_test = []\n",
    "Train_test = []"
   ]
  },
  {
   "cell_type": "code",
   "execution_count": null,
   "metadata": {},
   "outputs": [],
   "source": [
    "nd= 32\n",
    "for i in range(1,55):\n",
    "    X_tot=np.empty(shape=(1,9))\n",
    "    Y_tot=np.empty(shape=(1,4),dtype=np.int8)\n",
    "    s = 'user_features/user'\n",
    "    s+=str(i)+'_cb.txt'\n",
    "    if(path.exists(s)):\n",
    "        print(s)\n",
    "        dataset =  np.loadtxt(s,delimiter = \" \")\n",
    "        if dataset.ndim == 1:\n",
    "            dataset.shape = (1,10)\n",
    "        Y = dataset[:,9]\n",
    "        trn = dataset[:,0:9]\n",
    "        labels = []\n",
    "        for l in Y:\n",
    "            if l == 0:\n",
    "                labels.append([1,0,0,0])\n",
    "            elif l == 1 :\n",
    "                labels.append([0,1,0,0])\n",
    "            elif l == 2 :\n",
    "                labels.append([0,0,1,0])\n",
    "            else :\n",
    "                labels.append([0,0,0,1])\n",
    "        labels = np.array(labels)\n",
    "        #X_tot=np.concatenate((X_tot,trn),axis=0)\n",
    "        #Y_tot=np.concatenate((Y_tot,labels),axis=0)\n",
    "        X_train, X_test, y_train, y_test = train_test_split(trn, labels, test_size=0.2)\n",
    "        X_train=sc.transform(X_train)\n",
    "        X_test=sc.transform(X_test)\n",
    "        train = mod1.predict(X_train)\n",
    "        test = mod1.predict(X_test)\n",
    "        #Train.append(X_train)\n",
    "        #Labels.append(y_train)\n",
    "        #Train_test.append(X_test)\n",
    "        #Labels_test.append(y_test)\n",
    "        \n",
    "        user_classifier = Sequential()\n",
    "        user_classifier.add(Dense(8, input_shape=(nd,)))\n",
    "        #user_classifier.add(Dense(8, activation='relu'))\n",
    "        user_classifier.add(Dense(4, activation='softmax'))\n",
    "        #user_emotion = user_classifier(features)\n",
    "        #model = Model(input=row, output=user_emotion)\n",
    "        user_classifier.compile(loss='categorical_crossentropy',optimizer='adam',metrics=['accuracy'])\n",
    "        user_classifier.fit(train, y_train,epochs=50,batch_size=8,validation_data=(test, y_test))\n",
    "        print()\n",
    "        print()\n",
    "        print()\n",
    "        print()\n",
    "        print()\n",
    "\n",
    "            #User_classifiers.append(user_classifier)\n",
    "        #User_emotions.append(user_emotion)\n",
    "        #Models.append(model)\n",
    "        "
   ]
  },
  {
   "cell_type": "code",
   "execution_count": null,
   "metadata": {},
   "outputs": [],
   "source": []
  },
  {
   "cell_type": "code",
   "execution_count": null,
   "metadata": {},
   "outputs": [],
   "source": [
    "#,callbacks=[PlotLossesCallback()]\n",
    "for i in range(len(Models)):\n",
    "    Models[i].fit(Train[i], Labels[i],epochs=50,batch_size=8,validation_data=(Train_test[i], Labels_test[i]))\n",
    "    print(\"done \" + str(i))\n"
   ]
  },
  {
   "cell_type": "code",
   "execution_count": null,
   "metadata": {},
   "outputs": [],
   "source": []
  },
  {
   "cell_type": "code",
   "execution_count": null,
   "metadata": {},
   "outputs": [],
   "source": []
  },
  {
   "cell_type": "code",
   "execution_count": null,
   "metadata": {},
   "outputs": [],
   "source": [
    "from sklearn.metrics import roc_auc_score,accuracy_score\n",
    "import numpy as np\n",
    "aucs = []\n",
    "accs = []\n",
    "for i in range(len(Models)):\n",
    "    roc = 0\n",
    "    \n",
    "    y_true = np.argmax(Labels[i],axis = 1)\n",
    "    len_tot = len(y_true)\n",
    "    y_pred = Models[i].predict(Train[i])\n",
    "    unique_elements, counts_elements = np.unique(y_true, return_counts=True)\n",
    "    for x in unique_elements:\n",
    "        if x == 0:\n",
    "            \n",
    "            y_pred0 = y_pred[:,0]\n",
    "            y_true0 = np.copy(y_true)\n",
    "            y_true0 [y_true0 == 0] = -1\n",
    "            y_true0 [y_true0 != -1] = 0\n",
    "            y_true0 [y_true0 == -1] = 1\n",
    "            roc += (counts_elements[0]/len_tot)*roc_auc_score(y_true0,y_pred0)\n",
    "            \n",
    "            \n",
    "        elif x == 1:\n",
    "            \n",
    "            y_pred1 = y_pred[:,1]\n",
    "            y_true1 = np.copy(y_true)\n",
    "            y_true1 [y_true1 != 1] = 0\n",
    "            roc += (counts_elements[1]/len_tot)*roc_auc_score(y_true1,y_pred1)\n",
    "            \n",
    "        elif x == 2 :\n",
    "            \n",
    "            y_pred2 = y_pred[:,2]\n",
    "            y_true2 = np.copy(y_true)\n",
    "            y_true2 [y_true2 == 2] = -1\n",
    "            y_true2 [y_true2 != -1] = 0\n",
    "            y_true2 [y_true2 == -1] = 1\n",
    "            roc += (counts_elements[2]/len_tot)*roc_auc_score(y_true2,y_pred2)\n",
    "            \n",
    "        else :\n",
    "            \n",
    "            y_pred3 = y_pred[:,3]\n",
    "            y_true3 = np.copy(y_true)\n",
    "            y_true3 [y_true3 == 3] = -1\n",
    "            y_true3 [y_true3 != -1] = 0\n",
    "            y_true3 [y_true3 == -1] = 1\n",
    "            roc += (counts_elements[3]/len_tot)*roc_auc_score(y_true3,y_pred3)\n",
    "            \n",
    "    aucs.append(roc)\n",
    "    accs.append(accuracy_score(y_true,np.argmax(y_pred,axis = 1)))\n",
    "print(aucs)\n",
    "print(accs)"
   ]
  },
  {
   "cell_type": "code",
   "execution_count": null,
   "metadata": {},
   "outputs": [],
   "source": [
    "import matplotlib.pyplot as plt\n",
    "import numpy as np\n",
    "index = np.arange(len(aucs))\n",
    "plt.bar(index, accs)\n",
    "plt.xlabel('Users', fontsize=15)\n",
    "plt.ylabel('AUC ROC score', fontsize=15)\n",
    "plt.title('user emotion prediction using MTL')\n",
    "plt.show()"
   ]
  },
  {
   "cell_type": "code",
   "execution_count": null,
   "metadata": {},
   "outputs": [],
   "source": []
  }
 ],
 "metadata": {
  "kernelspec": {
   "display_name": "Python 3",
   "language": "python",
   "name": "python3"
  },
  "language_info": {
   "codemirror_mode": {
    "name": "ipython",
    "version": 3
   },
   "file_extension": ".py",
   "mimetype": "text/x-python",
   "name": "python",
   "nbconvert_exporter": "python",
   "pygments_lexer": "ipython3",
   "version": "3.6.6"
  }
 },
 "nbformat": 4,
 "nbformat_minor": 2
}
